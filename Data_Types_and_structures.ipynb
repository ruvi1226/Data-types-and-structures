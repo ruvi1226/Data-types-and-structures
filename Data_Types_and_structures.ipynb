{
  "nbformat": 4,
  "nbformat_minor": 0,
  "metadata": {
    "colab": {
      "provenance": []
    },
    "kernelspec": {
      "name": "python3",
      "display_name": "Python 3"
    },
    "language_info": {
      "name": "python"
    }
  },
  "cells": [
    {
      "cell_type": "markdown",
      "source": [
        "#Data Types and Structures Assignment Questions\n"
      ],
      "metadata": {
        "id": "AnIX-Sn4AnBR"
      }
    },
    {
      "cell_type": "markdown",
      "source": [
        "# Theory Questions\n",
        "\n"
      ],
      "metadata": {
        "id": "xFBWFfyWn-E0"
      }
    },
    {
      "cell_type": "markdown",
      "source": [
        "1.What are data structures, and why are they important?\n",
        "  - Data structures are specialized formats for organizing, storing, and accessing collections of data. They provide efficient ways to manage information based on its characteristics and intended use.Think of them as containers that hold your data and determine how you can interact with it. Different containers are better suited for different types of items.\n",
        "  -They are important because of following :\n",
        "- Choosing the right data structure significantly impacts the efficiency and performance of your program.\n",
        "- Well-chosen data structures can:\n",
        "\n",
        "    - Simplify data manipulation (adding, removing, modifying elements)\n",
        "    - Optimize searching and sorting operations\n",
        "    - Conserve memory usage\n",
        "\n",
        "\n",
        "\n",
        "\n",
        "\n"
      ],
      "metadata": {
        "id": "Juc61aBfoGW3"
      }
    },
    {
      "cell_type": "markdown",
      "source": [
        "2.Explain the difference between mutable and immutable data types with examples ?\n",
        "- Mutable objects can be changed after they are created. That means you can alter, add, or remove elements from the object without creating a new object.\n",
        "Examples of Mutable Types:\n",
        "  - list\n",
        "  - dict\n",
        "  - set\n",
        "-Immutable objects cannot be changed after they are created. Any operation that seems to modify the object will actually create a new object.\n",
        "Examples of Immutable Types:\n",
        "  - int\n",
        "  - float\n",
        "  - str\n",
        "  - tuple\n",
        "  - bool\n",
        "  - frozenset\n",
        "\n",
        "\n",
        "\n",
        "  "
      ],
      "metadata": {
        "id": "-hReO7k1sJbg"
      }
    },
    {
      "cell_type": "markdown",
      "source": [
        "3.What are the main differences between lists and tuples in Python ?\n",
        "- The main difference between lists and tuples are:\n",
        "1. Lists\n",
        "  - Mutable (can be changed after creation).\n",
        "  - Lists are slower than tuples due to their dynamic nature.\n",
        "  - List: cannot be created without Square brackets [  ]\n",
        "  - Suitable for data that may change and have different elements of different data types.\n",
        "  - List Cannot be used as a dictionary key\n",
        "  - Has many built-in methods (append(), pop(), remove(), etc.)\n",
        "2. Tuples\n",
        "  - Tuple: Immutable (cannot be changed after creation)\n",
        "  - Tuples are faster, especially useful when looping or as keys in dictionaries.\n",
        "  - Tuple: Parentheses ()\n",
        "  - Suitable for fixed data (e.g. passwords, records)\n",
        "  - Can be used as a dictionary key (only if it contains immutable elements)\n",
        "  -  Has fewer methods (only count() and index())"
      ],
      "metadata": {
        "id": "8AQE4M8ttrzI"
      }
    },
    {
      "cell_type": "markdown",
      "source": [
        "4.Describe how dictionaries store data ?\n",
        "- In Python, dictionaries store data as key-value pairs. Each key is unique and maps to a specific value.\n",
        "some characteristics of dictionaries are:\n",
        "  - ordered(after python 3.7)\n",
        "  - unique\n",
        "  - mutable\n",
        "\n",
        "\n",
        "\n"
      ],
      "metadata": {
        "id": "C2I49zEIxeUf"
      }
    },
    {
      "cell_type": "markdown",
      "source": [
        "5.Why might you use a set instead of a list in Python ?\n",
        "- You might use a set instead of a list in Python when you need:\n",
        "  - Sets automatically remove duplicates, whereas lists allow them.\n",
        "  - Sets are much faster than lists when checking if an item exists.\n",
        "  - supports Mathematical Set Operations(union, intersection.. etc)\n",
        "  -  Ensuring Unique Elements(does not allow duplicates)\n"
      ],
      "metadata": {
        "id": "598CgZOqyrpD"
      }
    },
    {
      "cell_type": "markdown",
      "source": [
        "6.What is a string in Python, and how is it different from a list?\n",
        "- Strings :\n",
        "  - A string is a sequence of characters enclosed within single quotes (' '), double quotes (\" \"), or triple quotes (''' ''' or \"\"\" \"\"\").\n",
        "  - Immutable (cannot change)\n",
        "  - Operations: Each character in the string can be accessed by its index, or position. Substrings can be extracted using slicing. Strings can be joined together and altered using a variety of techniques (find, replace, etc.).\n",
        "  - supports only elements type is characters.\n",
        "  - supports Indexing and Slicing.\n",
        "- list :\n",
        "  - A list is a sequence of items (which can be of any data type) enclosed in square brackets [].\n",
        "  - \tMutable (can change)\n",
        "  - Operations: You can add, remove, or modify elements within a list using indexing and slicing. Lists are versatile for storing and managing collections that might change.\n",
        "  - Supports elements Any data type (int, str, etc.)\n",
        "  - supports Indexing and Slicing."
      ],
      "metadata": {
        "id": "w1Ljr346w8an"
      }
    },
    {
      "cell_type": "markdown",
      "source": [
        "7.How do tuples ensure data integrity in Python?\n",
        "- Tuples help ensure data integrity in Python primarily through their immutability—which means once a tuple is created, its values cannot be changed. This property makes tuples especially useful for storing fixed, unchangeable data.\n",
        "- Tuples Ensure Data Integrity:\n",
        "  - Immutability-Tuples cannot be modified after creation (no add, remove, or change operations).\n",
        "  - Since the data in a tuple can't be altered, there's no risk of accidental modification by your code or other developers.\n",
        "  - Safe for Use as Dictionary Keys\n",
        "  - Predictable and Reliable Since tuples always remain the same, they are reliable containers for fixed data\n"
      ],
      "metadata": {
        "id": "PSdzUa1dyEbX"
      }
    },
    {
      "cell_type": "markdown",
      "source": [
        "8.What is a hash table, and how does it relate to dictionaries in Python ?\n",
        "- A hash table is a data structure that stores key-value pairs and allows for fast data access using a hashing function.\n",
        "  - Each key is passed through a hash function to compute an index.\n",
        "  - That index determines where to store or retrieve the associated value in memory.\n",
        "- A hash table is related to dictionaries:\n",
        "  - In Python, the dict (dictionary) is implemented using a hash table under the hood.\n",
        "  - Dictionary = Built-in Hash Table\n",
        "\n"
      ],
      "metadata": {
        "id": "5FShFr0uzpHj"
      }
    },
    {
      "cell_type": "markdown",
      "source": [
        "9.Can lists contain different data types in Python?\n",
        "- Yes, Python lists can contain elements of different data types. This is a key feature of Python lists, making them highly versatile.\n",
        "- For example, a single Python list can hold:\n",
        "    - Integers\n",
        "    - Floats\n",
        "    - Strings\n",
        "    - Booleans\n",
        "    - Other lists (nested lists)\n",
        "    - Tuples\n",
        "    - Dictionaries\n",
        "This flexibility allows for the creation of heterogeneous collections of data within a single list structure.\n"
      ],
      "metadata": {
        "id": "fUNTdpQ11_f2"
      }
    },
    {
      "cell_type": "markdown",
      "source": [
        "10.Explain why strings are immutable in Python ?\n",
        "- A string is immutable in Python, meaning once created, it cannot be changed — you cannot modify, insert, or delete characters in the original string.\n",
        "  -  Memory Optimization : \tShared string storage\n",
        "  - Hashability : Allows use as dictionary keys\n",
        "  - Predictable Behavior : Fewer bugs, easier debugging\n",
        "\n"
      ],
      "metadata": {
        "id": "CwUz5GUZ3XRs"
      }
    },
    {
      "cell_type": "markdown",
      "source": [
        "11.What advantages do dictionaries offer over lists for certain tasks ?\n",
        "- Dictionaries and lists are both built-in data structures in Python, but they serve different purposes.\n",
        "  - Dictionaries (dict) store data as key-value pairs, while Lists (list) store data as ordered sequences of items.\n",
        "  -  Unordered Data : Doesn't rely on index positions\n",
        "  -  Efficient Updates : Easy to update values for existing keys and No need to search or shift elements like in lists\n",
        "  -  No Duplicate Keys : Each key must be unique and Automatically avoids duplicates and ensures integrity while list allow duplicates.\n"
      ],
      "metadata": {
        "id": "ejuIcM_mtceV"
      }
    },
    {
      "cell_type": "markdown",
      "source": [
        "12.Describe a scenario where using a tuple would be preferable over a list ?\n",
        "- A tuple is preferable over a list when you need to store a fixed collection of values that should not change throughout the program.\n",
        "- Use a tuple when:\n",
        "    - The data should not be changed\n",
        "    - You want to ensure data integrity\n",
        "    - You need a hashable data type (e.g., for dictionary keys)\n",
        "    - The data structure represents a fixed group of related items\n",
        "  "
      ],
      "metadata": {
        "id": "TLT9tSHRvv44"
      }
    },
    {
      "cell_type": "markdown",
      "source": [
        "13.How do sets handle duplicate values in Python ?\n",
        "- In Python, sets automatically eliminate duplicate values. A set is a built-in unordered collection of unique elements.\n",
        "- Removes duplicates without needing extra code and Helps remove repeated values easily some key features of sets :\n",
        "- No duplicates allowed\n",
        "- Unordered (no indexing)\n",
        "- Mutable (can add/remove elements)\n",
        "- Defined using curly braces {} or set() function\n",
        "\n",
        "\n"
      ],
      "metadata": {
        "id": "kdLF6qyqxYJK"
      }
    },
    {
      "cell_type": "markdown",
      "source": [
        "14.How does the “in” keyword work differently for lists and dictionaries?\n",
        "- The in keyword is used to check for membership, but it works differently depending on the data type.\n",
        "  - For Lists: The in keyword checks if a value exists as an element in the list. It checks each item in the list sequentially (linear search).\n",
        "  - for example :\n",
        "    - my_list = [10, 20, 30, 40]\n",
        "    - print(20 in my_list)   # True (20 is an element)\n",
        "    - print(50 in my_list)   # False\n",
        "  - For Dictionaries: The in keyword checks if a key exists in the dictionary — not the value."
      ],
      "metadata": {
        "id": "8b17EwIByqbp"
      }
    },
    {
      "cell_type": "markdown",
      "source": [
        "15.Can you modify the elements of a tuple? Explain why or why not.\n",
        "- No, you cannot modify the elements of a tuple in Python.\n",
        "- Reason: Tuples are Immutable\n",
        "Once a tuple is created, its elements cannot be changed, added, or removed.\n",
        "This property is called immutability.\n",
        "\n"
      ],
      "metadata": {
        "id": "K8yWCIR2EENO"
      }
    },
    {
      "cell_type": "markdown",
      "source": [
        "16.What is a nested dictionary, and give an example of its use case?\n",
        "- A nested dictionary is a dictionary inside another dictionary.\n",
        "In other words, the value of a key in a dictionary can itself be another dictionary.\n",
        "- They are useful for storing structured, hierarchical, or grouped data in a clean and organized way.\n",
        "- for example : Example: Student Database\n",
        "  - students = { \"101\": {\n",
        "                  \"name\": \"rudali\",\n",
        "                  \"age\": 17,\n",
        "                  \"marks\": {\"math\": 90, \"science\": 85}\n",
        "                       },\n",
        "                \"102\": {\n",
        "                  \"name\": \"simran\",\n",
        "                  \"age\": 16,\n",
        "                  \"marks\": {\"math\": 70, \"science\": 95}\n",
        "                       }\n",
        "               }\n",
        "  - result: accessing Nested Data:\n",
        "        - print(students[\"101\"][\"name\"])         # Output: rudali\n",
        "        - print(students[\"102\"][\"marks\"][\"math\"])  # Output: 70           "
      ],
      "metadata": {
        "id": "6xHvZtGLEORu"
      }
    },
    {
      "cell_type": "markdown",
      "source": [
        "17.Describe the time complexity of accessing elements in a dictionary.\n",
        "- In Python, dictionaries are implemented using hash tables, which makes accessing elements by key very fast.\n",
        "- Accessing an element in a Python dictionary (or a hash table in general) typically has a time complexity of O(1) on average. This means that the time it takes to retrieve a value associated with a key remains constant regardless of the dictionary's size."
      ],
      "metadata": {
        "id": "6QCMbB1hETjM"
      }
    },
    {
      "cell_type": "markdown",
      "source": [
        "18.In what situations are lists preferred over dictionaries?\n",
        "- While dictionaries are great for key-value mappings, lists are often better when dealing with ordered sequences of elements where position (index) matters.\n",
        "- Situations Where Lists Are Preferred:\n",
        "  - Maintaining Order and Sequence\n",
        "  -  Index-Based Access\n",
        "  - Iteration in Order\n",
        "  - Use lists when you just need a collection of values without needing to label them.\n",
        "  - Lists can grow or shrink easily by adding/removing elements.\n",
        "\n"
      ],
      "metadata": {
        "id": "Z5HruascEcVo"
      }
    },
    {
      "cell_type": "markdown",
      "source": [
        "19.Why are dictionaries considered unordered, and how does that affect data retrieval?\n",
        "- Dictionaries in Python were traditionally considered unordered because the insertion order of keys was not preserved.\n",
        " - Items were stored based on hashing, not the order you added them.\n",
        " - This meant iteration order could be unpredictable.\n",
        "- Since Python 3.7+: Dictionaries do preserve insertion order, but they are still considered logically unordered because:\n",
        "  - The order should not be relied on for logic or correctness.\n",
        "  - They're designed primarily for fast lookups by key, not ordered traversal.\n",
        "- How It Affects Data Retrieval: dict[key] are Fast, direct access (O(1)) by key, not by index.Iteration over dictionary\tFollows insertion order (Python 3.7+), but order logic shouldn't be depended on Indexing (e.g., dict[0]) Not allowed — dictionaries are key-based, not index-based\n",
        "  "
      ],
      "metadata": {
        "id": "sq0vccQrEfNC"
      }
    },
    {
      "cell_type": "markdown",
      "source": [
        "20.Explain the difference between a list and a dictionary in terms of data retrieval.\n",
        "- A list is an ordered collection of items, whereas a dictionary is an unordered data collection in a key: value pair. Elements from the list can be accessed using the index, while the elements of the dictionary can be accessed using keys.\n",
        "- Time Complexity\tlist : O(1) for index-based access\tdictionary : O(1) average case for key-based access\n",
        "- Access Method\tlist : By index (position)\t, dictionary : By key"
      ],
      "metadata": {
        "id": "Q--3zKY5EkLP"
      }
    },
    {
      "cell_type": "markdown",
      "source": [
        "# Practical Questions\n"
      ],
      "metadata": {
        "id": "HT7Nk8F51KNU"
      }
    },
    {
      "cell_type": "code",
      "source": [
        "#1. Write a code to create a string with your name and print it?\n",
        "name=\"Rudali\"\n",
        "print(name)\n",
        "type(name)\n"
      ],
      "metadata": {
        "id": "amvtDmYi1ie8",
        "colab": {
          "base_uri": "https://localhost:8080/"
        },
        "outputId": "4a5c4d29-0c8e-400e-b236-3fc820c2aa0c"
      },
      "execution_count": null,
      "outputs": [
        {
          "output_type": "stream",
          "name": "stdout",
          "text": [
            "Rudali\n"
          ]
        },
        {
          "output_type": "execute_result",
          "data": {
            "text/plain": [
              "str"
            ]
          },
          "metadata": {},
          "execution_count": 2
        }
      ]
    },
    {
      "cell_type": "code",
      "source": [
        "#2. Write a code to find the length of the string \"Hello World\"?\n",
        "s=\"Hello World\"\n",
        "len(s)"
      ],
      "metadata": {
        "id": "hEh1mVXv4V8a",
        "colab": {
          "base_uri": "https://localhost:8080/"
        },
        "outputId": "24a157a5-c2ea-472e-b1f7-657a2d74dc46"
      },
      "execution_count": null,
      "outputs": [
        {
          "output_type": "execute_result",
          "data": {
            "text/plain": [
              "11"
            ]
          },
          "metadata": {},
          "execution_count": 8
        }
      ]
    },
    {
      "cell_type": "code",
      "source": [
        "#3. Write a code to slice the first 3 characters from the string \"Python Programming\".\n",
        "x=\"Python Programming\"\n",
        "x[0:3]\n"
      ],
      "metadata": {
        "id": "8JtnHWFw5HGu",
        "colab": {
          "base_uri": "https://localhost:8080/",
          "height": 36
        },
        "outputId": "b8d38f26-0677-4d18-874f-bad79019c5bb"
      },
      "execution_count": null,
      "outputs": [
        {
          "output_type": "execute_result",
          "data": {
            "text/plain": [
              "'Pyt'"
            ],
            "application/vnd.google.colaboratory.intrinsic+json": {
              "type": "string"
            }
          },
          "metadata": {},
          "execution_count": 9
        }
      ]
    },
    {
      "cell_type": "code",
      "source": [
        "#4.Write a code to convert the string \"hello\" to uppercase.\n",
        "x=\"hello\"\n",
        "x.upper()\n"
      ],
      "metadata": {
        "id": "du81Feuy772w",
        "colab": {
          "base_uri": "https://localhost:8080/",
          "height": 36
        },
        "outputId": "0aa6f1b6-7e0b-4357-98d2-a18b2143de60"
      },
      "execution_count": null,
      "outputs": [
        {
          "output_type": "execute_result",
          "data": {
            "text/plain": [
              "'HELLO'"
            ],
            "application/vnd.google.colaboratory.intrinsic+json": {
              "type": "string"
            }
          },
          "metadata": {},
          "execution_count": 10
        }
      ]
    },
    {
      "cell_type": "code",
      "source": [
        "#5.Write a code to replace the word \"apple\" with \"orange\" in the string \"I like apple\"?\n",
        "x=\"I like Apple\"\n",
        "new_text = x.replace(\"Apple\", \"orange\")\n",
        "print(new_text)"
      ],
      "metadata": {
        "id": "oihRABwR_uTQ",
        "colab": {
          "base_uri": "https://localhost:8080/"
        },
        "outputId": "ad269524-28ed-4011-bf7a-f8220421a0fd"
      },
      "execution_count": null,
      "outputs": [
        {
          "output_type": "stream",
          "name": "stdout",
          "text": [
            "I like orange\n"
          ]
        }
      ]
    },
    {
      "cell_type": "code",
      "source": [
        "#6.Write a code to create a list with numbers 1 to 5 and print it?\n",
        "num=[1,2,3,4,5]\n",
        "print(num)\n",
        "\n",
        "\n"
      ],
      "metadata": {
        "id": "A8_-Da2U7x1_",
        "colab": {
          "base_uri": "https://localhost:8080/"
        },
        "outputId": "6f96c2ef-48eb-4ac8-999c-bbdb22f29086"
      },
      "execution_count": null,
      "outputs": [
        {
          "output_type": "stream",
          "name": "stdout",
          "text": [
            "[1, 2, 3, 4, 5]\n"
          ]
        }
      ]
    },
    {
      "cell_type": "code",
      "source": [
        "#7. Write a code to append the number 10 to the list [1, 2, 3, 4]?\n",
        "lis=[1,2,3,4]\n",
        "lis.append(10)\n",
        "print(lis)\n"
      ],
      "metadata": {
        "id": "QO1djNRM9imV",
        "colab": {
          "base_uri": "https://localhost:8080/"
        },
        "outputId": "01ce8dab-2943-41ac-ba12-7be5fdd6c950"
      },
      "execution_count": null,
      "outputs": [
        {
          "output_type": "stream",
          "name": "stdout",
          "text": [
            "[1, 2, 3, 4, 10]\n"
          ]
        }
      ]
    },
    {
      "cell_type": "code",
      "source": [
        "#8.Write a code to remove the number 3 from the list [1, 2, 3, 4, 5]?\n",
        "lis1=[1,2,3,4,5]\n",
        "lis1.remove(3)\n",
        "print(lis1)"
      ],
      "metadata": {
        "id": "WN-cqOGkAVa2",
        "colab": {
          "base_uri": "https://localhost:8080/"
        },
        "outputId": "2926baae-bf93-4487-b741-e8575f1c3eee"
      },
      "execution_count": null,
      "outputs": [
        {
          "output_type": "stream",
          "name": "stdout",
          "text": [
            "[1, 2, 4, 5]\n"
          ]
        }
      ]
    },
    {
      "cell_type": "code",
      "source": [
        "#9. Write a code to access the second element in the list ['a', 'b', 'c', 'd']?\n",
        "letters=['a','b','c','d']\n",
        "second_element=letters[1]\n",
        "print(second_element)\n"
      ],
      "metadata": {
        "id": "uBv_qun1Ag0J",
        "colab": {
          "base_uri": "https://localhost:8080/"
        },
        "outputId": "bf28e3de-304a-4383-b8d5-d836f506022e"
      },
      "execution_count": null,
      "outputs": [
        {
          "output_type": "stream",
          "name": "stdout",
          "text": [
            "b\n"
          ]
        }
      ]
    },
    {
      "cell_type": "code",
      "source": [
        "#10.Write a code to reverse the list [10, 20, 30, 40, 50].\n",
        "list_2=[10,20,30,40,50]\n",
        "list_2.reverse()\n",
        "print(list_2)"
      ],
      "metadata": {
        "id": "re1gFt8QAyzo",
        "colab": {
          "base_uri": "https://localhost:8080/"
        },
        "outputId": "ab8fff47-35a1-48df-bccb-4b077b5167af"
      },
      "execution_count": null,
      "outputs": [
        {
          "output_type": "stream",
          "name": "stdout",
          "text": [
            "[50, 40, 30, 20, 10]\n"
          ]
        }
      ]
    },
    {
      "cell_type": "code",
      "source": [
        "#11.Write a code to create a tuple with the elements 100, 200, 300 and print it.\n",
        "my_tuple=(100,200,300)\n",
        "print(my_tuple)\n"
      ],
      "metadata": {
        "id": "5XEoj4SFBBft",
        "colab": {
          "base_uri": "https://localhost:8080/"
        },
        "outputId": "b41dfb64-6cbd-47ec-862d-fe3cecf02d56"
      },
      "execution_count": null,
      "outputs": [
        {
          "output_type": "stream",
          "name": "stdout",
          "text": [
            "(100, 200, 300)\n"
          ]
        }
      ]
    },
    {
      "cell_type": "code",
      "source": [
        "#12.Write a code to access the second-to-last element of the tuple ('red', 'green', 'blue', 'yellow').\n",
        "colors = ('red', 'green', 'blue', 'yellow')\n",
        "\n",
        "second_to_last = colors[-2]\n",
        "print(second_to_last)"
      ],
      "metadata": {
        "id": "F4MlwghHBPdL",
        "colab": {
          "base_uri": "https://localhost:8080/"
        },
        "outputId": "9bb6bb09-243e-42e3-b8d2-ce34415672f9"
      },
      "execution_count": null,
      "outputs": [
        {
          "output_type": "stream",
          "name": "stdout",
          "text": [
            "blue\n"
          ]
        }
      ]
    },
    {
      "cell_type": "code",
      "source": [
        "#13 Write a code to find the minimum number in the tuple (10, 20, 5, 15).\n",
        "tuple1 = (10,20,5,15)\n",
        "minimum_no = min(tuple1)\n",
        "print(minimum_no)\n"
      ],
      "metadata": {
        "id": "corwjSVqBaNC",
        "colab": {
          "base_uri": "https://localhost:8080/"
        },
        "outputId": "cef14f03-d882-49d6-fde7-ee9204ca8ec8"
      },
      "execution_count": null,
      "outputs": [
        {
          "output_type": "stream",
          "name": "stdout",
          "text": [
            "5\n"
          ]
        }
      ]
    },
    {
      "cell_type": "code",
      "source": [
        "#14.Write a code to find the index of the element \"cat\" in the tuple ('dog', 'cat', 'rabbit').\n",
        "animals = ('dog','cat','rabbit')\n",
        "index_of_cat = animals.index('cat')\n",
        "print(index_of_cat)"
      ],
      "metadata": {
        "id": "07eGF64NBmUc",
        "colab": {
          "base_uri": "https://localhost:8080/"
        },
        "outputId": "be4df95c-68b0-4c57-faed-b9d2c3df070b"
      },
      "execution_count": null,
      "outputs": [
        {
          "output_type": "stream",
          "name": "stdout",
          "text": [
            "1\n"
          ]
        }
      ]
    },
    {
      "cell_type": "code",
      "source": [
        "#15.Write a code to create a tuple containing three different fruits and check if \"kiwi\" is in it.\n",
        "fruits = (\"apple\", \"banana\", \"mango\")\n",
        "if \"kiwi\" in fruits:\n",
        "  print(\"kiwi is present in fruits tuple.\")\n",
        "else:\n",
        "  print(\"kiwi is not present in fruits tuple\")"
      ],
      "metadata": {
        "id": "YyHi8UQ0BwkL",
        "colab": {
          "base_uri": "https://localhost:8080/"
        },
        "outputId": "fdd47764-11d5-4468-ed4d-458c7750ac46"
      },
      "execution_count": null,
      "outputs": [
        {
          "output_type": "stream",
          "name": "stdout",
          "text": [
            "kiwi is not present in fruits tuple\n"
          ]
        }
      ]
    },
    {
      "cell_type": "code",
      "source": [
        "#16 Write a code to create a set with the elements 'a', 'b', 'c' and print it.\n",
        "my_set = {'a','b','c'}\n",
        "print(my_set)"
      ],
      "metadata": {
        "colab": {
          "base_uri": "https://localhost:8080/"
        },
        "id": "4fI5hf4dtzU1",
        "outputId": "cc4860cf-33dc-4632-9cd2-e0f9dff093f2"
      },
      "execution_count": null,
      "outputs": [
        {
          "output_type": "stream",
          "name": "stdout",
          "text": [
            "{'c', 'a', 'b'}\n"
          ]
        }
      ]
    },
    {
      "cell_type": "code",
      "source": [
        "#17.Write a code to clear all elements from the set {1, 2, 3, 4, 5}.\n",
        "set_data = {1, 2, 3, 4, 5}\n",
        "set_data.clear()\n",
        "print(set_data)"
      ],
      "metadata": {
        "colab": {
          "base_uri": "https://localhost:8080/"
        },
        "id": "lVEPv2xwuIBQ",
        "outputId": "7d8217ef-b1fa-4228-977a-40fbd8a2ce13"
      },
      "execution_count": null,
      "outputs": [
        {
          "output_type": "stream",
          "name": "stdout",
          "text": [
            "set()\n"
          ]
        }
      ]
    },
    {
      "cell_type": "code",
      "source": [
        "#18. Write a code to remove the element 4 from the set {1, 2, 3, 4}.\n",
        "set_1 = {1, 2, 3, 4}\n",
        "set_1.remove(4)\n",
        "print(set_1)"
      ],
      "metadata": {
        "colab": {
          "base_uri": "https://localhost:8080/"
        },
        "id": "N0Bhj5Deu2je",
        "outputId": "fb9a75c8-053d-44ac-a864-dd5a92fe824e"
      },
      "execution_count": null,
      "outputs": [
        {
          "output_type": "stream",
          "name": "stdout",
          "text": [
            "{1, 2, 3}\n"
          ]
        }
      ]
    },
    {
      "cell_type": "code",
      "source": [
        "#19.Write a code to find the union of two sets {1, 2, 3} and {3, 4, 5}.\n",
        "s1 = {1, 2, 3}\n",
        "s2 = {3, 4, 5}\n",
        "\n",
        "# '|' symbol is used to find the union of two sets\n",
        "union_set = s1 | s2\n",
        "print(union_set)"
      ],
      "metadata": {
        "colab": {
          "base_uri": "https://localhost:8080/"
        },
        "id": "qvVvWXu1vZHJ",
        "outputId": "85b8c83d-961f-4b6b-d8f1-332ef95c713b"
      },
      "execution_count": null,
      "outputs": [
        {
          "output_type": "stream",
          "name": "stdout",
          "text": [
            "{1, 2, 3, 4, 5}\n"
          ]
        }
      ]
    },
    {
      "cell_type": "code",
      "source": [
        "#20.Write a code to find the intersection of two sets {1, 2, 3} and {2, 3, 4}.\n",
        "set1 = {1, 2, 3}\n",
        "set2 = {2, 3, 4}\n",
        "\n",
        "# '&' symbol is used to find the intersection of two sets\n",
        "intersection_set = set1 & set2\n",
        "print(intersection_set)"
      ],
      "metadata": {
        "colab": {
          "base_uri": "https://localhost:8080/"
        },
        "id": "AjSKaN1Qv-DK",
        "outputId": "a393c571-e67a-4742-fd11-40cd07fe632f"
      },
      "execution_count": null,
      "outputs": [
        {
          "output_type": "stream",
          "name": "stdout",
          "text": [
            "{2, 3}\n"
          ]
        }
      ]
    },
    {
      "cell_type": "code",
      "source": [
        "#21. Write a code to create a dictionary with the keys \"name\", \"age\", and \"city\", and print it.\n",
        "person_detail = {\"name\" : \"rudali\", \"age\" : 24, \"city\" : \"rishikesh\"}\n",
        "print(person_detail)\n",
        "\n",
        "#to check the type is dictionary or not\n",
        "type(person_detail)"
      ],
      "metadata": {
        "colab": {
          "base_uri": "https://localhost:8080/"
        },
        "id": "B_4fnlh8wcRd",
        "outputId": "40dd185d-d035-4c8d-e16e-727e894eeff6"
      },
      "execution_count": null,
      "outputs": [
        {
          "output_type": "stream",
          "name": "stdout",
          "text": [
            "{'name': 'rudali', 'age': 24, 'city': 'rishikesh'}\n"
          ]
        },
        {
          "output_type": "execute_result",
          "data": {
            "text/plain": [
              "dict"
            ]
          },
          "metadata": {},
          "execution_count": 34
        }
      ]
    },
    {
      "cell_type": "code",
      "source": [
        "#22. Write a code to add a new key-value pair \"country\": \"USA\" to the dictionary {'name': 'John', 'age': 25}.\n",
        "person = {'name': 'John', 'age': 25}\n",
        "person['country'] = 'USA'\n",
        "print(person)"
      ],
      "metadata": {
        "colab": {
          "base_uri": "https://localhost:8080/"
        },
        "id": "m4fpYN6hyLtr",
        "outputId": "2ecb9147-2391-40af-d2e0-6537234d2ffc"
      },
      "execution_count": null,
      "outputs": [
        {
          "output_type": "stream",
          "name": "stdout",
          "text": [
            "{'name': 'John', 'age': 25, 'country': 'USA'}\n"
          ]
        }
      ]
    },
    {
      "cell_type": "code",
      "source": [
        "#23.Write a code to access the value associated with the key \"name\" in the dictionary {'name': 'Alice', 'age': 30}.\n",
        "d1 = {'name': 'Alice', 'age': 30}\n",
        "name_value = d1['name']\n",
        "\n",
        "print(name_value)\n"
      ],
      "metadata": {
        "colab": {
          "base_uri": "https://localhost:8080/"
        },
        "id": "j3VHAFAey78m",
        "outputId": "7cdcd0f7-3e17-4646-c67d-3a39489732be"
      },
      "execution_count": null,
      "outputs": [
        {
          "output_type": "stream",
          "name": "stdout",
          "text": [
            "Alice\n"
          ]
        }
      ]
    },
    {
      "cell_type": "code",
      "source": [
        "#24.Write a code to remove the key \"age\" from the dictionary {'name': 'Bob', 'age': 22, 'city': 'New York'}.\n",
        "d2 = {'name': 'Bob', 'age': 22, 'city': 'New York'}\n",
        "del d2['age']\n",
        "\n",
        "print(d2)"
      ],
      "metadata": {
        "colab": {
          "base_uri": "https://localhost:8080/"
        },
        "id": "E_Pj999-0dyM",
        "outputId": "99724749-7cda-46ca-90c1-654509b81e26"
      },
      "execution_count": null,
      "outputs": [
        {
          "output_type": "stream",
          "name": "stdout",
          "text": [
            "{'name': 'Bob', 'city': 'New York'}\n"
          ]
        }
      ]
    },
    {
      "cell_type": "code",
      "source": [
        "#25. Write a code to check if the key \"city\" exists in the dictionary {'name': 'Alice', 'city': 'Paris'}.\n",
        "d3 = {'name': 'Alice', 'city': 'Paris'}\n",
        "\n",
        "# Checking if \"city\" is a key in the dictionary\n",
        "if 'city' in d3:\n",
        "    print(\"Key 'city' exists in the dictionary.\")\n",
        "else:\n",
        "    print(\"Key 'city' does not exist in the dictionary.\")\n"
      ],
      "metadata": {
        "colab": {
          "base_uri": "https://localhost:8080/"
        },
        "id": "y0LqH1Oe1apZ",
        "outputId": "a512ecdd-6b71-4c31-e2ce-2d7858b55eab"
      },
      "execution_count": null,
      "outputs": [
        {
          "output_type": "stream",
          "name": "stdout",
          "text": [
            "Key 'city' exists in the dictionary.\n"
          ]
        }
      ]
    },
    {
      "cell_type": "code",
      "source": [
        "#26. Write a code to create a list, a tuple, and a dictionary, and print them all.\n",
        "# Creating a list\n",
        "my_list = [1, 2, 3, 4]\n",
        "\n",
        "# Creating a tuple\n",
        "my_tuple = ('apple', 'kiwi', 'orange')\n",
        "\n",
        "# Creating a dictionary\n",
        "my_dict = {'name': 'rudali', 'age': 24, 'city': 'rishikesh'}\n",
        "\n",
        "# Printing them all\n",
        "print(\"List:\", my_list)\n",
        "print(\"Tuple:\", my_tuple)\n",
        "print(\"Dictionary:\", my_dict)"
      ],
      "metadata": {
        "colab": {
          "base_uri": "https://localhost:8080/"
        },
        "id": "KzCs45oH3CdU",
        "outputId": "03cacfa1-fd92-47d2-a21f-f9e35beadf2b"
      },
      "execution_count": null,
      "outputs": [
        {
          "output_type": "stream",
          "name": "stdout",
          "text": [
            "List: [1, 2, 3, 4]\n",
            "Tuple: ('apple', 'kiwi', 'orange')\n",
            "Dictionary: {'name': 'rudali', 'age': 24, 'city': 'rishikesh'}\n"
          ]
        }
      ]
    },
    {
      "cell_type": "code",
      "source": [
        "#27. Write a code to create a list of 5 random numbers between 1 and 100, sort it in ascending order, and print the result.(replaced)\n",
        "l1 = [30, 10, 67, 33, 96]\n",
        "l1.sort()\n",
        "\n",
        "print(l1)"
      ],
      "metadata": {
        "colab": {
          "base_uri": "https://localhost:8080/"
        },
        "id": "5CMLAGnh3v06",
        "outputId": "29e3a169-60d4-4dba-971a-fc7285983270"
      },
      "execution_count": null,
      "outputs": [
        {
          "output_type": "stream",
          "name": "stdout",
          "text": [
            "[10, 30, 33, 67, 96]\n"
          ]
        }
      ]
    },
    {
      "cell_type": "code",
      "source": [
        "#28.  Write a code to create a list with strings and print the element at the third index.\n",
        "l2 = ['apple','mango','kiwi','orange','grapes','coconut']\n",
        "\n",
        "print(\"Element at index 3:\", l2[3])"
      ],
      "metadata": {
        "colab": {
          "base_uri": "https://localhost:8080/"
        },
        "id": "H9ZEtX7d4tRJ",
        "outputId": "d2b80164-4bd0-4e71-efa5-d5d40c9e954a"
      },
      "execution_count": null,
      "outputs": [
        {
          "output_type": "stream",
          "name": "stdout",
          "text": [
            "Element at index 3: orange\n"
          ]
        }
      ]
    },
    {
      "cell_type": "code",
      "source": [
        "#29. Write a code to combine two dictionaries into one and print the result.\n",
        "# Two dictionaries\n",
        "dict1 = {\"roll_no1\":\"rudali\", \"roll_no2\":\"mansi\"}\n",
        "dict2 = {\"roll_no3\":\"simran\", \"roll_no4\": \"shristi\"}\n",
        "\n",
        "# Combine using update()\n",
        "dict1.update(dict2)\n",
        "print(\"Combined Dictionary:\", dict1)"
      ],
      "metadata": {
        "colab": {
          "base_uri": "https://localhost:8080/"
        },
        "id": "P-luDCAp6t6F",
        "outputId": "dd42fd23-a77d-4277-d71e-7197d5023b21"
      },
      "execution_count": null,
      "outputs": [
        {
          "output_type": "stream",
          "name": "stdout",
          "text": [
            "Combined Dictionary: {'roll_no1': 'rudali', 'roll_no2': 'mansi', 'roll_no3': 'simran', 'roll_no4': 'shristi'}\n"
          ]
        }
      ]
    },
    {
      "cell_type": "code",
      "source": [
        "#30. Write a code to convert a list of strings into a set.\n",
        "list_of_str = ['apple','mango','kiwi','orange','grapes','coconut']\n",
        "list_set = set(list_of_str)\n",
        "\n",
        "print(list_set)"
      ],
      "metadata": {
        "colab": {
          "base_uri": "https://localhost:8080/"
        },
        "id": "96DyshBW7y5W",
        "outputId": "7115507a-2794-4fea-fcfa-b200cbdbf810"
      },
      "execution_count": null,
      "outputs": [
        {
          "output_type": "stream",
          "name": "stdout",
          "text": [
            "{'coconut', 'grapes', 'mango', 'apple', 'kiwi', 'orange'}\n"
          ]
        }
      ]
    }
  ]
}